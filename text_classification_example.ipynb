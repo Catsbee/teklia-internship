{
 "cells": [
  {
   "cell_type": "code",
   "execution_count": 9,
   "metadata": {},
   "outputs": [],
   "source": [
    "import pandas as pd\n",
    "from sklearn.model_selection import train_test_split\n",
    "from sklearn.naive_bayes import MultinomialNB\n",
    "from sklearn.feature_extraction.text import CountVectorizer\n",
    "from sklearn.feature_extraction.text import TfidfTransformer\n"
   ]
  },
  {
   "cell_type": "code",
   "execution_count": null,
   "metadata": {},
   "outputs": [],
   "source": [
    "\n",
    "# load dataframe from CSV file\n",
    "df = pd.read_csv('data/LeMonde2003_9classes.csv.gz')\n"
   ]
  },
  {
   "cell_type": "code",
   "execution_count": 4,
   "metadata": {},
   "outputs": [
    {
     "name": "stdout",
     "output_type": "stream",
     "text": [
      "train size (18099, 2)\n",
      "dev size (6033, 2)\n",
      "test size (6033, 2)\n"
     ]
    }
   ],
   "source": [
    "\n",
    "# Split the dataset (X and y together)\n",
    "df_train, df_test = train_test_split(df.dropna() ,test_size=0.20, random_state=42)\n",
    "df_train_hyper, df_dev = train_test_split(df_train ,test_size=0.25, random_state=42)\n",
    "\n",
    "print ('train size',df_train_hyper.shape)\n",
    "print ('dev size', df_dev.shape)\n",
    "print ('test size', df_test.shape)\n",
    "# create features X and target y\n",
    "X_train = df_train_hyper.text\n",
    "X_dev = df_dev.text\n",
    "X_test = df_test.text\n",
    "y_train = df_train_hyper.category\n",
    "y_dev = df_dev.category\n",
    "y_test = df_test.category\n",
    "\n",
    "X_train_dev = df_train.text\n",
    "y_train_dev = df_train.category"
   ]
  },
  {
   "cell_type": "code",
   "execution_count": 6,
   "metadata": {},
   "outputs": [],
   "source": [
    "# train a Naive Bayes classifier\n",
    "\n",
    "# create the vectorizer object\n",
    "vectorizer = CountVectorizer(max_features=10000)\n",
    "# fit on train data\n",
    "vectorizer.fit(X_train)\n",
    "# apply it on train and dev data\n",
    "X_train_counts = vectorizer.transform(X_train)\n",
    "X_dev_counts = vectorizer.transform(X_dev)\n",
    "X_test_counts = vectorizer.transform(X_test)"
   ]
  },
  {
   "cell_type": "code",
   "execution_count": 10,
   "metadata": {},
   "outputs": [
    {
     "name": "stdout",
     "output_type": "stream",
     "text": [
      "Train accuracy 0.7883860986794851\n",
      "Dev accuracy 0.7671142052047074\n",
      "Test accuracy 0.7813691364163766\n"
     ]
    }
   ],
   "source": [
    "tf_transformer = TfidfTransformer().fit(X_train_counts)\n",
    "X_train_tf = tf_transformer.transform(X_train_counts)\n",
    "X_dev_tf = tf_transformer.transform(X_dev_counts)\n",
    "X_dev_tf = tf_transformer.transform(X_test_counts)\n",
    "                 \n",
    "clf2 = MultinomialNB()\n",
    "clf2.fit(X_train_tf, y_train)\n",
    "print (\"Train accuracy\",clf2.score(X_train_counts,y_train))\n",
    "print (\"Dev accuracy\",clf2.score(X_dev_counts,y_dev))\n",
    "print (\"Test accuracy\",clf2.score(X_test_counts,y_test))"
   ]
  },
  {
   "cell_type": "code",
   "execution_count": null,
   "metadata": {},
   "outputs": [],
   "source": []
  }
 ],
 "metadata": {
  "kernelspec": {
   "display_name": "Python 3",
   "language": "python",
   "name": "python3"
  },
  "language_info": {
   "codemirror_mode": {
    "name": "ipython",
    "version": 3
   },
   "file_extension": ".py",
   "mimetype": "text/x-python",
   "name": "python",
   "nbconvert_exporter": "python",
   "pygments_lexer": "ipython3",
   "version": "3.7.9"
  }
 },
 "nbformat": 4,
 "nbformat_minor": 2
}